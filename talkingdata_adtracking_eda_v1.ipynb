{
 "cells": [
  {
   "cell_type": "markdown",
   "metadata": {
    "_uuid": "93e67ce62ff89567a107a8c7c43d92fb0c3c5669"
   },
   "source": [
    "<h1><center><font size=\"6\">工程实践：TalkingData AdTracking EDA</font></center></h1>\n",
    "<h2><center><font size=\"5\">Light GBM模型的实现</font></center></h2>\n",
    "\n",
    "# <a id='0'>目录</a>\n",
    "\n",
    "- <a href='#1'>模型v1介绍</a>  \n",
    "- <a href='#2'>载入包</a>  \n",
    "- <a href='#2'>参数设置</a>  \n",
    "- <a href='#3'>读入数据</a>\n",
    "- <a href='#6'>特征工程</a>\n",
    "    - <a href='#62'>派生特征工程</a>\n",
    "- <a href='#7'>LGBM模型</a>  \n",
    "    - <a href='#71'>模型定义</a>  \n",
    "    - <a href='#71'>训练模型并保存模型</a> \n",
    "- <a href='#8'>预测及产生submission</a>\n"
   ]
  },
  {
   "cell_type": "markdown",
   "metadata": {
    "_uuid": "60cceac6fe355d3939732ec7fec216c3fcd60af6"
   },
   "source": [
    "# <a id=\"1\">模型v1介绍</a>\n",
    "\n",
    "- 特征选取：\n",
    "- 模型参数：\n",
    "- 模型评估：\n",
    "- 预测结果：\n"
   ]
  },
  {
   "cell_type": "markdown",
   "metadata": {
    "_uuid": "fa4f34bcb4e21902f1127e0857b58e0da38aee76"
   },
   "source": [
    "# <a id=\"2\">载入包</a>\n",
    "\n",
    "在这里，我们加载库并设置一些参数。"
   ]
  },
  {
   "cell_type": "code",
   "execution_count": 1,
   "metadata": {
    "_uuid": "62d21a85ecd4a44064a1dd7eeab07ea7f8c4d73a"
   },
   "outputs": [],
   "source": [
    "import pandas as pd\n",
    "import numpy as np\n",
    "import matplotlib.pyplot as plt\n",
    "import seaborn as sns\n",
    "import os\n",
    "from sklearn.preprocessing import Imputer\n",
    "from sklearn.preprocessing import PolynomialFeatures\n",
    "from sklearn.preprocessing import StandardScaler\n",
    "from sklearn.feature_selection import VarianceThreshold\n",
    "from sklearn.feature_selection import SelectFromModel\n",
    "\n",
    "from sklearn.model_selection import StratifiedKFold\n",
    "from sklearn.model_selection import KFold\n",
    "from sklearn.model_selection import cross_val_score\n",
    "from sklearn.model_selection import train_test_split\n",
    "\n",
    "from xgboost import XGBClassifier\n",
    "from lightgbm import LGBMClassifier\n",
    "from sklearn.linear_model import LogisticRegression\n",
    "\n",
    "\n",
    "import lightgbm as lgb\n",
    "import gc # memory \n",
    "from datetime import datetime # train time checking\n",
    "import pickle\n",
    "\n",
    "pd.set_option('display.max_columns', 100)"
   ]
  },
  {
   "cell_type": "markdown",
   "metadata": {
    "_uuid": "4245317acdf63b0a16a29daa412a8ee3d84e5d0a"
   },
   "source": [
    "# <a id=\"3\">参数设置</a>\n",
    "\n",
    "这里我们设置了这个Notebook中使用的大多数参数。\n",
    "\n"
   ]
  },
  {
   "cell_type": "code",
   "execution_count": 2,
   "metadata": {
    "_uuid": "4950dc5714b477736a2aa6507715925f185ee415"
   },
   "outputs": [
    {
     "name": "stdout",
     "output_type": "stream",
     "text": [
      "['.DS_Store', 'test.csv', 'train_sample.csv', 'test_supplement.csv', 'train.csv', '.ipynb_checkpoints', 'sample_submission.csv']\n"
     ]
    }
   ],
   "source": [
    "#VALIDATION 使用留出法，评估模型\n",
    "VALIDATE = True  #validation using train_test_split\n",
    "VALID_SIZE = 0.10 # simple validation using train_test_split\n",
    "\n",
    "#CROSS-VALIDATION 使用k折交叉检验，评估模型\n",
    "VALIDATE_KFOLDS = False #cross-validation using KFolds\n",
    "NUMBER_KFOLDS = 5 #number of KFolds for cross-validation\n",
    "\n",
    "#使用train.sample作为输入？\n",
    "SAMPLE = False    #True: use train.sample (100,000 rows) False: use full training set (train)\n",
    "RANDOM_STATE = 2018\n",
    "\n",
    "#读取训练集\n",
    "skiprows = range(1,109903891) #\n",
    "nrows = 75000000\n",
    "\n",
    "#取训练集子集\n",
    "SAMPLE_SIZE = 1 # use a subsample of the train set\n",
    "output_filename = 'submission_v1.csv'\n",
    "\n",
    "IS_LOCAL = True\n",
    "\n",
    "\n",
    "if (IS_LOCAL):\n",
    "    PATH = '../input/talkingdata_adtracking_fraud_detection/'\n",
    "else:\n",
    "    PATH = '../input/'\n",
    "print(os.listdir(PATH))"
   ]
  },
  {
   "cell_type": "markdown",
   "metadata": {
    "_uuid": "d73c3758ae57d728fa40a59f35b8ade6ee8a1abc"
   },
   "source": [
    "# <a id=\"3\">读入数据</a>\n",
    "\n",
    "我们使用** Parameters **部分中设置的选项读取数据。\n"
   ]
  },
  {
   "cell_type": "code",
   "execution_count": 3,
   "metadata": {
    "_uuid": "816690c2de4c8b8ca575807725b21796b0dd71ed"
   },
   "outputs": [],
   "source": [
    "#设置读取相应列数据类型\n",
    "dtypes = {\n",
    "        'ip'            : 'uint32',\n",
    "        'app'           : 'uint16',\n",
    "        'device'        : 'uint16',\n",
    "        'os'            : 'uint16',\n",
    "        'channel'       : 'uint16',\n",
    "        'is_attributed' : 'uint8',\n",
    "        'click_id'      : 'uint32'\n",
    "        }\n",
    "\n",
    "#设置读入哪些列，降低内存消耗\n",
    "train_cols = ['ip','app','device','os', 'channel', 'click_time', 'is_attributed']\n",
    "\n",
    "#设置读取文件train_sample还是train\n",
    "if SAMPLE:\n",
    "    trainset = pd.read_csv(PATH+\"train_sample.csv\", parse_dates=['click_time'], dtype=dtypes, usecols=train_cols)    \n",
    "else:\n",
    "    #使用train时，利用抽样取样，跳行skiprows，取nrows条数据\n",
    "    trainset = pd.read_csv(PATH+\"train.csv\", parse_dates=['click_time'], skiprows=skiprows, nrows=nrows,dtype=dtypes, usecols=train_cols)\n",
    "    trainset = trainset.sample(frac=SAMPLE_SIZE)"
   ]
  },
  {
   "cell_type": "markdown",
   "metadata": {
    "_uuid": "c9e69dc7cbc546e1a0cc671b298e9d74681c6fc6",
    "collapsed": true
   },
   "source": [
    "# <a id=\"6\">特征工程<a/>"
   ]
  },
  {
   "cell_type": "markdown",
   "metadata": {
    "_uuid": "abf89285f0993a96f79810989fcb15dafcfc69bd"
   },
   "source": [
    "## <a id=\"62\">派生特征的工程</a>\n",
    "\n",
    "定义用于计算派生特征的多个函数。"
   ]
  },
  {
   "cell_type": "code",
   "execution_count": 4,
   "metadata": {},
   "outputs": [],
   "source": [
    "#------------------------------------------------------------------------------\n",
    "#求agg_name特征中的最大值\n",
    "def show_max_clean(df,gp,agg_name,agg_type,show_max):\n",
    "#------------------------------------------------------------------------------    \n",
    "    del gp\n",
    "    if show_max:\n",
    "        print( agg_name + \" max value = \", df[agg_name].max() )\n",
    "    df[agg_name] = df[agg_name].astype(agg_type,copy=False)\n",
    "    gc.collect()\n",
    "    return( df )\n",
    "    \n",
    "#------------------------------------------------------------------------------\n",
    "#每个聚集（特征组合）的个数\n",
    "def perform_count( df, group_cols, agg_name, agg_type='uint32', show_max=False, show_agg=True ):\n",
    "#------------------------------------------------------------------------------\n",
    "    if show_agg:\n",
    "        print( \"Aggregating by \", group_cols , '...' )\n",
    "    gp = df[group_cols][group_cols].groupby(group_cols).size().rename(agg_name).to_frame().reset_index()\n",
    "    df = df.merge(gp, on=group_cols, how='left', copy=False)\n",
    "    return (show_max_clean(df,gp,agg_name,agg_type,show_max))\n",
    "\n",
    "#------------------------------------------------------------------------------\n",
    "#每个group_cols中不同counted的个数\n",
    "def perform_countuniq( df, group_cols, counted, agg_name, agg_type='uint32', show_max=False, show_agg=True ):\n",
    "#------------------------------------------------------------------------------    \n",
    "    if show_agg:\n",
    "        print( \"Counting unique \", counted, \" by \", group_cols , '...' )\n",
    "    gp = df[group_cols+[counted]].groupby(group_cols)[counted].nunique().reset_index().rename(columns={counted:agg_name})\n",
    "    df = df.merge(gp, on=group_cols, how='left', copy=False)\n",
    "    return (show_max_clean(df,gp,agg_name,agg_type,show_max))\n",
    "\n",
    "#------------------------------------------------------------------------------\n",
    "#计算每个聚集（特征组合）逐渐累加个数，（counted不起作用）\n",
    "def perform_cumcount( df, group_cols, counted, agg_name, agg_type='uint32', show_max=False, show_agg=True ):\n",
    "#------------------------------------------------------------------------------    \n",
    "    if show_agg:\n",
    "        print( \"Cumulative count by \", group_cols , '...' )\n",
    "    gp = df[group_cols+[counted]].groupby(group_cols)[counted].cumcount()\n",
    "    df[agg_name]=gp.values\n",
    "    return (show_max_clean(df,gp,agg_name,agg_type,show_max))\n",
    "\n",
    "#------------------------------------------------------------------------------\n",
    "#计算每个聚集（特征组合）中的counted平均值\n",
    "def perform_mean( df, group_cols, counted, agg_name, agg_type='float32', show_max=False, show_agg=True ):\n",
    "#------------------------------------------------------------------------------    \n",
    "    if show_agg:\n",
    "        print( \"Calculating mean of \", counted, \" by \", group_cols , '...' )\n",
    "    gp = df[group_cols+[counted]].groupby(group_cols)[counted].mean().reset_index().rename(columns={counted:agg_name})\n",
    "    df = df.merge(gp, on=group_cols, how='left', copy=False)\n",
    "    return (show_max_clean(df,gp,agg_name,agg_type,show_max))\n",
    "\n",
    "#------------------------------------------------------------------------------\n",
    "#计算每个聚集（特征组合）中的counted方差\n",
    "def perform_var( df, group_cols, counted, agg_name, agg_type='float32', show_max=False, show_agg=True ):\n",
    "#------------------------------------------------------------------------------    \n",
    "    if show_agg:\n",
    "        print( \"Calculating variance of \", counted, \" by \", group_cols , '...' )\n",
    "    gp = df[group_cols+[counted]].groupby(group_cols)[counted].var().reset_index().rename(columns={counted:agg_name})\n",
    "    df = df.merge(gp, on=group_cols, how='left', copy=False)\n",
    "    return (show_max_clean(df,gp,agg_name,agg_type,show_max))"
   ]
  },
  {
   "cell_type": "code",
   "execution_count": 5,
   "metadata": {},
   "outputs": [
    {
     "name": "stdout",
     "output_type": "stream",
     "text": [
      "Extracting new features...\n",
      "Counting unique  channel  by  ['ip'] ...\n",
      "Cumulative count by  ['ip', 'device', 'os'] ...\n",
      "Counting unique  hour  by  ['ip', 'day'] ...\n",
      "Counting unique  app  by  ['ip'] ...\n",
      "Counting unique  os  by  ['ip', 'app'] ...\n",
      "Counting unique  device  by  ['ip'] ...\n",
      "Counting unique  channel  by  ['app'] ...\n",
      "Cumulative count by  ['ip'] ...\n",
      "Counting unique  app  by  ['ip', 'device', 'os'] ...\n",
      "Counting unique  channel  by  ['ip', 'device', 'os'] ...\n",
      "Aggregating by  ['ip', 'app', 'channel'] ...\n",
      "Aggregating by  ['ip', 'device', 'os', 'app'] ...\n",
      "Aggregating by  ['ip', 'day', 'hour'] ...\n",
      "Aggregating by  ['ip', 'app'] ...\n",
      "Aggregating by  ['ip', 'app', 'os'] ...\n",
      "Calculating variance of  hour  by  ['ip', 'day', 'channel'] ...\n",
      "Calculating variance of  hour  by  ['ip', 'app', 'os'] ...\n",
      "Calculating variance of  day  by  ['ip', 'app', 'channel'] ...\n",
      "Calculating mean of  hour  by  ['ip', 'app', 'channel'] ...\n",
      "doing nextClick 2...\n",
      "<class 'pandas.core.frame.DataFrame'>\n",
      "Int64Index: 75000000 entries, 0 to 74999999\n",
      "Data columns (total 27 columns):\n",
      "ip                          uint32\n",
      "app                         uint16\n",
      "device                      uint16\n",
      "os                          uint16\n",
      "channel                     uint16\n",
      "is_attributed               uint8\n",
      "hour                        uint8\n",
      "X0                          uint8\n",
      "X1                          uint32\n",
      "X2                          uint8\n",
      "X3                          uint16\n",
      "X4                          uint8\n",
      "X5                          uint16\n",
      "X6                          uint8\n",
      "X7                          uint32\n",
      "X8                          uint8\n",
      "A0                          uint32\n",
      "A1                          uint32\n",
      "A2                          uint32\n",
      "ip_tcount                   uint16\n",
      "ip_app_count                uint32\n",
      "ip_app_os_count             uint16\n",
      "ip_tchan_count              float32\n",
      "ip_app_os_var               float32\n",
      "ip_app_channel_var_day      float32\n",
      "ip_app_channel_mean_hour    float32\n",
      "nextClick                   float32\n",
      "dtypes: float32(5), uint16(8), uint32(7), uint8(7)\n",
      "memory usage: 5.5 GB\n"
     ]
    },
    {
     "data": {
      "text/plain": [
       "14"
      ]
     },
     "execution_count": 5,
     "metadata": {},
     "output_type": "execute_result"
    }
   ],
   "source": [
    "def prep_data( df ):\n",
    "    print('Extracting new features...')\n",
    "    df['hour'] = pd.to_datetime(df.click_time).dt.hour.astype('uint8')\n",
    "    df['day'] = pd.to_datetime(df.click_time).dt.day.astype('uint8')\n",
    "    gc.collect()\n",
    "    \n",
    "    # print('the Id of df before function: ',id(df))\n",
    "    df = perform_countuniq( df, ['ip'], 'channel', 'X0', 'uint8', show_max=False ); gc.collect()\n",
    "    df = perform_cumcount( df, ['ip', 'device', 'os'], 'app', 'X1', show_max=False ); gc.collect()\n",
    "    # print('the Id of df after function: ',id(df)) # the same id with 'df' returned\n",
    "    df = perform_countuniq( df, ['ip', 'day'], 'hour', 'X2', 'uint8', show_max=False ); gc.collect()\n",
    "    df = perform_countuniq( df, ['ip'], 'app', 'X3', 'uint16', show_max=False ); gc.collect()\n",
    "    df = perform_countuniq( df, ['ip', 'app'], 'os', 'X4', 'uint8', show_max=False ); gc.collect()\n",
    "    df = perform_countuniq( df, ['ip'], 'device', 'X5', 'uint16', show_max=False ); gc.collect()\n",
    "    df = perform_countuniq( df, ['app'], 'channel', 'X6','uint8', show_max=False ); gc.collect()\n",
    "    df = perform_cumcount( df, ['ip'], 'os', 'X7', show_max=False ); gc.collect()\n",
    "    df = perform_countuniq( df, ['ip', 'device', 'os'], 'app', 'X8','uint8', show_max=False ); gc.collect()\n",
    "\n",
    "    df = perform_countuniq( df, ['ip', 'device', 'os'], 'channel', 'A0', show_max=False ); gc.collect()\n",
    "    df = perform_count( df, ['ip', 'app', 'channel'], 'A1', show_max=False ); gc.collect()\n",
    "    df = perform_count( df, ['ip', 'device', 'os','app'], 'A2', show_max=False ); gc.collect()\n",
    "    # ip-device-hour?\n",
    "\n",
    "    df = perform_count( df, ['ip', 'day', 'hour'], 'ip_tcount','uint16',show_max=False ); gc.collect()\n",
    "#     df = do_count( df, ['ip', 'hour'], 'ip_tcount2','uint32',show_max=False ); gc.collect()\n",
    "    df = perform_count( df, ['ip', 'app'], 'ip_app_count','uint32', show_max=False ); gc.collect()\n",
    "    df = perform_count( df, ['ip', 'app', 'os'], 'ip_app_os_count', 'uint16', show_max=False ); gc.collect()\n",
    "    df = perform_var( df, ['ip', 'day', 'channel'], 'hour', 'ip_tchan_count', show_max=False ); gc.collect()\n",
    "    df = perform_var( df, ['ip', 'app', 'os'], 'hour', 'ip_app_os_var', show_max=False ); gc.collect()\n",
    "    df = perform_var( df, ['ip', 'app', 'channel'], 'day', 'ip_app_channel_var_day', show_max=False ); gc.collect()\n",
    "    df = perform_mean( df, ['ip', 'app', 'channel'], 'hour', 'ip_app_channel_mean_hour', show_max=False ); gc.collect()\n",
    "\n",
    "    print('doing nextClick 2...')\n",
    "    df['click_time'] = (df['click_time'].astype(np.int64,copy=False) // 10 ** 9).astype(np.int32,copy=False)\n",
    "    df['nextClick'] = (df.groupby(['ip', 'app', 'device', 'os']).click_time.shift(-1) - df.click_time).astype(np.float32,copy=False)\n",
    "    df.drop(['click_time','day'], axis=1, inplace=True)\n",
    "    gc.collect()\n",
    "    return df\n",
    "trainset = prep_data(trainset)\n",
    "trainset.info()\n",
    "gc.collect()"
   ]
  },
  {
   "cell_type": "markdown",
   "metadata": {
    "_uuid": "103220baab3e782cc87fc20d29b5e16a29ca87e8",
    "collapsed": true
   },
   "source": [
    "# <a id=\"7\">模型</a>"
   ]
  },
  {
   "cell_type": "markdown",
   "metadata": {
    "_uuid": "36b519d04b1beeb5107782e619626f10ee279cee"
   },
   "source": [
    "## <a id=\"71\">模型的定义</a>"
   ]
  },
  {
   "cell_type": "code",
   "execution_count": 6,
   "metadata": {
    "_uuid": "47e318c59bde27fd165214fb348042c70f1eb125"
   },
   "outputs": [],
   "source": [
    "#设置lgb的参数\n",
    "MAX_ROUNDS = 2000 #lgb iterations\n",
    "EARLY_STOP = 50  #lgb early stop \n",
    "OPT_ROUNDS = 650  #To be adjusted based on best validation rounds\n",
    "params = {\n",
    "        'boosting_type': 'gbdt',\n",
    "        'objective': 'binary',\n",
    "        'metric':'auc',\n",
    "        'learning_rate': 0.2, # 【consider using 0.1】\n",
    "        #'is_unbalance': 'true',  #because training data is unbalance (replaced with scale_pos_weight)\n",
    "        'scale_pos_weight': 200, # because training data is extremely unbalanced\n",
    "        'num_leaves': 7,  # we should let it be smaller than 2^(max_depth), default=31\n",
    "        'max_depth': 3,  # -1 means no limit, default=-1\n",
    "        'min_data_per_leaf': 100,  # alias=min_data_per_leaf , min_data, min_child_samples, default=20\n",
    "        'max_bin': 100,  # Number of bucketed bin for feature values,default=255\n",
    "        'subsample': 0.7,  # Subsample ratio of the training instance.default=1.0, alias=bagging_fraction\n",
    "        'subsample_freq': 1,  # k means will perform bagging at every k iteration, <=0 means no enable,alias=bagging_freq,default=0\n",
    "        'colsample_bytree': 0.9,  # Subsample ratio of columns when constructing each tree.alias:feature_fraction\n",
    "        'min_child_weight': 0,  # Minimum sum of instance weight(hessian) needed in a child(leaf),default=1e-3,Like min_data_in_leaf, it can be used to deal with over-fitting\n",
    "        'subsample_for_bin': 200000,  # Number of samples for constructing bin\n",
    "        'min_split_gain': 0,  # lambda_l1, lambda_l2 and min_gain_to_split to regularization\n",
    "        'reg_alpha': 0,  # L1 regularization term on weights\n",
    "        'reg_lambda': 0,  # L2 regularization term on weights\n",
    "        'nthread': 4, # should be equal to REAL cores:http://xgboost.readthedocs.io/en/latest/how_to/external_memory.html\n",
    "        'verbose': 0\n",
    "         }\n",
    "\n",
    "target = 'is_attributed'\n",
    "predictors = ['nextClick','app','device','os', 'channel', 'hour',\n",
    "                  'ip_tcount', 'ip_tchan_count', 'ip_app_count',\n",
    "                  'ip_app_os_count', 'ip_app_os_var',\n",
    "                  'ip_app_channel_var_day','ip_app_channel_mean_hour',\n",
    "                  'X0', 'X1', 'X2', 'X3', 'X4', 'X5', 'X6', 'X7', 'X8']\n",
    "categorical = ['app', 'device', 'os', 'channel', 'hour']\n"
   ]
  },
  {
   "cell_type": "markdown",
   "metadata": {
    "_uuid": "3ac4a1ccae16db39e826057fe5b2837996fa67b4"
   },
   "source": [
    "## <a id=\"72\">模型的训练</a>"
   ]
  },
  {
   "cell_type": "code",
   "execution_count": 8,
   "metadata": {
    "_uuid": "87c106998dad841f2af68a2c63b67d422be0ed67"
   },
   "outputs": [
    {
     "name": "stdout",
     "output_type": "stream",
     "text": [
      "train size:72500000\n",
      "valid size:2500000\n",
      "Training...\n",
      "Training until validation scores don't improve for 50 rounds.\n",
      "[10]\tvalid's auc: 0.861315\n",
      "[20]\tvalid's auc: 0.958266\n",
      "[30]\tvalid's auc: 0.963042\n",
      "[40]\tvalid's auc: 0.965732\n",
      "[50]\tvalid's auc: 0.966631\n",
      "[60]\tvalid's auc: 0.967517\n",
      "[70]\tvalid's auc: 0.967673\n",
      "[80]\tvalid's auc: 0.967991\n",
      "[90]\tvalid's auc: 0.968181\n",
      "[100]\tvalid's auc: 0.968716\n",
      "[110]\tvalid's auc: 0.968428\n",
      "[120]\tvalid's auc: 0.97032\n",
      "[130]\tvalid's auc: 0.970717\n",
      "[140]\tvalid's auc: 0.970985\n",
      "[150]\tvalid's auc: 0.971218\n",
      "[160]\tvalid's auc: 0.971551\n",
      "[170]\tvalid's auc: 0.971558\n",
      "[180]\tvalid's auc: 0.971583\n",
      "[190]\tvalid's auc: 0.971681\n",
      "[200]\tvalid's auc: 0.971778\n",
      "[210]\tvalid's auc: 0.971874\n",
      "[220]\tvalid's auc: 0.971947\n",
      "[230]\tvalid's auc: 0.971954\n",
      "[240]\tvalid's auc: 0.971961\n",
      "[250]\tvalid's auc: 0.971962\n",
      "[260]\tvalid's auc: 0.972227\n",
      "[270]\tvalid's auc: 0.972326\n",
      "[280]\tvalid's auc: 0.972349\n",
      "[290]\tvalid's auc: 0.972399\n",
      "[300]\tvalid's auc: 0.972404\n",
      "[310]\tvalid's auc: 0.972445\n",
      "[320]\tvalid's auc: 0.972454\n",
      "[330]\tvalid's auc: 0.972472\n",
      "[340]\tvalid's auc: 0.972565\n",
      "[350]\tvalid's auc: 0.972374\n",
      "[360]\tvalid's auc: 0.972396\n",
      "[370]\tvalid's auc: 0.972107\n",
      "[380]\tvalid's auc: 0.971673\n",
      "[390]\tvalid's auc: 0.971828\n",
      "Early stopping, best iteration is:\n",
      "[340]\tvalid's auc: 0.972565\n",
      "[0:19:29.071222]: model training time\n",
      "Plot feature importances...\n"
     ]
    },
    {
     "data": {
      "image/png": "[encoded data removed]",
      "text/plain": [
       "<Figure size 432x288 with 1 Axes>"
      ]
     },
     "metadata": {
      "needs_background": "light"
     },
     "output_type": "display_data"
    },
    {
     "data": {
      "text/plain": [
       "<Figure size 432x288 with 0 Axes>"
      ]
     },
     "metadata": {},
     "output_type": "display_data"
    },
    {
     "data": {
      "image/png": "[encoded data removed]",
      "text/plain": [
       "<Figure size 432x288 with 1 Axes>"
      ]
     },
     "metadata": {
      "needs_background": "light"
     },
     "output_type": "display_data"
    },
    {
     "data": {
      "text/plain": [
       "10041"
      ]
     },
     "execution_count": 8,
     "metadata": {},
     "output_type": "execute_result"
    },
    {
     "data": {
      "text/plain": [
       "<Figure size 432x288 with 0 Axes>"
      ]
     },
     "metadata": {},
     "output_type": "display_data"
    }
   ],
   "source": [
    "if VALIDATE:\n",
    "\n",
    "    #train_df, val_df = train_test_split(trainset, test_size=VALID_SIZE, random_state=RANDOM_STATE, shuffle=True )\n",
    "    train_df = trainset[:72500000]\n",
    "    val_df = trainset[72500000:]\n",
    "    print('train size:%d'%len(train_df))\n",
    "    print('valid size:%d'%len(val_df))\n",
    "    dtrain = lgb.Dataset(train_df[predictors].values, \n",
    "                         label=train_df[target].values,\n",
    "                         feature_name=predictors,\n",
    "                         categorical_feature=categorical)\n",
    "    del train_df\n",
    "    gc.collect()\n",
    "\n",
    "    dvalid = lgb.Dataset(val_df[predictors].values,\n",
    "                         label=val_df[target].values,\n",
    "                         feature_name=predictors,\n",
    "                         categorical_feature=categorical)\n",
    "    del val_df\n",
    "    gc.collect()\n",
    "\n",
    "    evals_results = {}\n",
    "    \n",
    "    print(\"Training...\")\n",
    "    start_time = datetime.now()\n",
    "    \n",
    "    model = lgb.train(params, \n",
    "                      dtrain, \n",
    "                      valid_sets=[dvalid], \n",
    "                      valid_names=['valid'], \n",
    "                      evals_result=evals_results, \n",
    "                      num_boost_round=MAX_ROUNDS,\n",
    "                      early_stopping_rounds=EARLY_STOP,\n",
    "                      verbose_eval=10, \n",
    "                      feval=None)\n",
    "    del dtrain, dvalid\n",
    "    gc.collect()\n",
    "    print('[{}]: model training time'.format(datetime.now() - start_time))\n",
    "    \n",
    "elif VALIDATE_KFOLDS:\n",
    "    kf = KFold(n_splits = NUMBER_KFOLDS, random_state = RANDOM_STATE, shuffle = True)\n",
    "    for train_index, test_index in kf.split(trainset):\n",
    "        train_X, valid_X = trainset.iloc[train_index], trainset.iloc[test_index]\n",
    "        \n",
    "        dtrain = lgb.Dataset(train_X[predictors].values, label=train_X[target].values,\n",
    "                         feature_name=predictors, categorical_feature=categorical)\n",
    "        del train_X\n",
    "        gc.collect()\n",
    "        \n",
    "        dvalid = lgb.Dataset(valid_X[predictors].values, label=valid_X[target].values,\n",
    "                         feature_name=predictors, categorical_feature=categorical)\n",
    "        del valid_X\n",
    "        gc.collect()\n",
    "        \n",
    "        evals_results = {}\n",
    "        \n",
    "        print(\"Training...\")\n",
    "        start_time = datetime.now()\n",
    "        model =  lgb.train(params, \n",
    "                      dtrain, \n",
    "                      valid_sets=[dvalid], \n",
    "                      valid_names=['valid'], \n",
    "                      evals_result=evals_results, \n",
    "                      num_boost_round=MAX_ROUNDS,\n",
    "                      early_stopping_rounds=EARLY_STOP,\n",
    "                      verbose_eval=10, \n",
    "                      feval=None)\n",
    "        del dtrain, dvalid\n",
    "        gc.collect()\n",
    "        print('[{}]: model training time'.format(datetime.now() - start_time))\n",
    "    \n",
    "else:\n",
    "\n",
    "    gc.collect()\n",
    "    dtrain = lgb.Dataset(train_df[predictors].values, label=train_df[target].values,\n",
    "                          feature_name=predictors,\n",
    "                          categorical_feature=categorical\n",
    "                          )\n",
    "    del train_df\n",
    "    gc.collect()\n",
    "\n",
    "    evals_results = {}\n",
    "    \n",
    "    print(\"Training...\")\n",
    "    start_time = datetime.now()\n",
    "    \n",
    "    model = lgb.train(params, \n",
    "                      dtrain, \n",
    "                      valid_sets=[dtrain], \n",
    "                      valid_names=['train'], \n",
    "                      evals_result=evals_results, \n",
    "                      num_boost_round=OPT_ROUNDS,\n",
    "                      verbose_eval=10,\n",
    "                      feval=None)\n",
    "    print('[{}]: model training time'.format(datetime.now() - start_time))\n",
    "\n",
    "#画出特征重要性Importance以及划分后的信息增益Gain\n",
    "print('Plot feature importances...')\n",
    "lgb.plot_importance(model)\n",
    "plt.show()\n",
    "plt.gcf().savefig('feature_importance_runnablelightgbm_split.png')\n",
    "lgb.plot_importance(model,importance_type='gain')\n",
    "plt.show()\n",
    "plt.gcf().savefig('feature_importance_runnablelightgbm_gain.png')\n",
    "\n",
    "# dump model with pickle\n",
    "with open('model_v3.pkl', 'wb') as fout:\n",
    "    pickle.dump(model, fout)\n",
    "gc.collect()"
   ]
  },
  {
   "cell_type": "markdown",
   "metadata": {
    "_uuid": "3c25d84fe92ed3454b8f350ef7b277bda109d362"
   },
   "source": [
    "# <a id=\"8\">预测及输出</a>"
   ]
  },
  {
   "cell_type": "code",
   "execution_count": 13,
   "metadata": {},
   "outputs": [
    {
     "name": "stdout",
     "output_type": "stream",
     "text": [
      "Extracting new features...\n",
      "Counting unique  channel  by  ['ip'] ...\n",
      "Cumulative count by  ['ip', 'device', 'os'] ...\n",
      "Counting unique  hour  by  ['ip', 'day'] ...\n",
      "Counting unique  app  by  ['ip'] ...\n",
      "Counting unique  os  by  ['ip', 'app'] ...\n",
      "Counting unique  device  by  ['ip'] ...\n",
      "Counting unique  channel  by  ['app'] ...\n",
      "Cumulative count by  ['ip'] ...\n",
      "Counting unique  app  by  ['ip', 'device', 'os'] ...\n",
      "Counting unique  channel  by  ['ip', 'device', 'os'] ...\n",
      "Aggregating by  ['ip', 'app', 'channel'] ...\n",
      "Aggregating by  ['ip', 'device', 'os', 'app'] ...\n",
      "Aggregating by  ['ip', 'day', 'hour'] ...\n",
      "Aggregating by  ['ip', 'app'] ...\n",
      "Aggregating by  ['ip', 'app', 'os'] ...\n",
      "Calculating variance of  hour  by  ['ip', 'day', 'channel'] ...\n",
      "Calculating variance of  hour  by  ['ip', 'app', 'os'] ...\n",
      "Calculating variance of  day  by  ['ip', 'app', 'channel'] ...\n",
      "Calculating mean of  hour  by  ['ip', 'app', 'channel'] ...\n",
      "doing nextClick 2...\n"
     ]
    },
    {
     "data": {
      "text/plain": [
       "0"
      ]
     },
     "execution_count": 13,
     "metadata": {},
     "output_type": "execute_result"
    }
   ],
   "source": [
    "#读取测试集test\n",
    "test_cols = ['ip','app','device','os', 'channel', 'click_time', 'click_id']\n",
    "testset = pd.read_csv(PATH+\"test.csv\", parse_dates=['click_time'], dtype=dtypes, usecols=test_cols)\n",
    "\n",
    "#对测试集进行预处理\n",
    "test_df = prep_data(testset)\n",
    "gc.collect()"
   ]
  },
  {
   "cell_type": "code",
   "execution_count": 15,
   "metadata": {
    "_uuid": "4155c7903e344a0597f376c867920e03e006e7e9"
   },
   "outputs": [
    {
     "name": "stdout",
     "output_type": "stream",
     "text": [
      "Predicting...\n",
      "writing...\n",
      "All done...\n"
     ]
    }
   ],
   "source": [
    "sub = pd.DataFrame()\n",
    "sub['click_id'] = test_df['click_id']\n",
    "# load model with pickle to predict\n",
    "with open('model_v3_09725.pkl', 'rb') as fin:\n",
    "    model = pickle.load(fin)\n",
    "print(\"Predicting...\")\n",
    "sub['is_attributed'] = model.predict(test_df[predictors])\n",
    "\n",
    "print(\"writing...\")\n",
    "sub.to_csv('submission_v3.csv', index=False, float_format='%.9f')\n",
    "del sub\n",
    "gc.collect()\n",
    "print(\"All done...\")\n"
   ]
  }
 ],
 "metadata": {
  "kernelspec": {
   "display_name": "Python 3",
   "language": "python",
   "name": "python3"
  },
  "language_info": {
   "codemirror_mode": {
    "name": "ipython",
    "version": 3
   },
   "file_extension": ".py",
   "mimetype": "text/x-python",
   "name": "python",
   "nbconvert_exporter": "python",
   "pygments_lexer": "ipython3",
   "version": "3.6.6"
  }
 },
 "nbformat": 4,
 "nbformat_minor": 1
}
